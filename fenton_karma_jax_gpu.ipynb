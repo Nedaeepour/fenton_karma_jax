{
  "nbformat": 4,
  "nbformat_minor": 0,
  "metadata": {
    "accelerator": "GPU",
    "colab": {
      "name": "fenton-karma-jax_gpu.ipynb",
      "provenance": [],
      "collapsed_sections": [],
      "toc_visible": true,
      "include_colab_link": true
    },
    "kernelspec": {
      "name": "python3",
      "display_name": "Python 3"
    },
    "language_info": {
      "codemirror_mode": {
        "name": "ipython",
        "version": 3
      },
      "file_extension": ".py",
      "mimetype": "text/x-python",
      "name": "python",
      "nbconvert_exporter": "python",
      "pygments_lexer": "ipython3",
      "version": "3.7.6"
    }
  },
  "cells": [
    {
      "cell_type": "markdown",
      "metadata": {
        "id": "view-in-github",
        "colab_type": "text"
      },
      "source": [
        "<a href=\"https://colab.research.google.com/github/epignatelli/fenton_karma_jax/blob/master/fenton_karma_jax_gpu.ipynb\" target=\"_parent\"><img src=\"https://colab.research.google.com/assets/colab-badge.svg\" alt=\"Open In Colab\"/></a>"
      ]
    },
    {
      "cell_type": "code",
      "metadata": {
        "id": "3NyyrGnqIuMJ",
        "colab_type": "code",
        "outputId": "d074ffd0-e958-4761-89cf-e21d9d764818",
        "colab": {
          "base_uri": "https://localhost:8080/",
          "height": 139
        }
      },
      "source": [
        "!git clone https://github.com/epignatelli/fenton_karma_jax.git"
      ],
      "execution_count": 1,
      "outputs": [
        {
          "output_type": "stream",
          "text": [
            "Cloning into 'fenton_karma_jax'...\n",
            "remote: Enumerating objects: 183, done.\u001b[K\n",
            "remote: Counting objects: 100% (183/183), done.\u001b[K\n",
            "remote: Compressing objects: 100% (161/161), done.\u001b[K\n",
            "remote: Total 183 (delta 92), reused 32 (delta 12), pack-reused 0\u001b[K\n",
            "Receiving objects: 100% (183/183), 383.07 KiB | 1.24 MiB/s, done.\n",
            "Resolving deltas: 100% (92/92), done.\n"
          ],
          "name": "stdout"
        }
      ]
    },
    {
      "cell_type": "code",
      "metadata": {
        "colab_type": "code",
        "id": "vUv_EBY-3AQL",
        "colab": {}
      },
      "source": [
        "from fenton_karma_jax import params\n",
        "from fenton_karma_jax import model\n",
        "import matplotlib.pyplot as plt\n",
        "import jax\n",
        "import jax.numpy as np"
      ],
      "execution_count": 0,
      "outputs": []
    },
    {
      "cell_type": "code",
      "metadata": {
        "colab_type": "code",
        "id": "h4wpfYDF31k4",
        "colab": {}
      },
      "source": [
        "# geometry\n",
        "shape = (1024, 1024)\n",
        "dt = 0.01\n",
        "\n",
        "# diffusivity map\n",
        "d = 0.05\n",
        "D = np.ones(shape) * d\n",
        "\n",
        "# stimuli\n",
        "field = np.zeros(shape)\n",
        "field = jax.ops.index_update(field, jax.ops.index[0:20], .8)\n",
        "s1 = {\n",
        "    \"field\": field,\n",
        "    \"start\": 0,\n",
        "    \"duration\": 2,\n",
        "    \"period\": 0  # non-cyclic\n",
        "}\n",
        "\n",
        "field2 = np.zeros(shape)\n",
        "field2 = jax.ops.index_update(field, jax.ops.index[:, -20:], .5)\n",
        "s2 = {\n",
        "    \"field\": field2,\n",
        "    \"start\": 200,\n",
        "    \"duration\": 2,\n",
        "    \"period\": 0  # non-cyclic\n",
        "}\n",
        "\n",
        "field3 = np.zeros(shape)\n",
        "field2 = jax.ops.index_update(field, jax.ops.index[40:60], .5)\n",
        "s3 = {\n",
        "    \"field\": field3,\n",
        "    \"start\": 360,\n",
        "    \"duration\": 15,\n",
        "    \"period\": 0  # non-cyclic\n",
        "}"
      ],
      "execution_count": 0,
      "outputs": []
    },
    {
      "cell_type": "code",
      "metadata": {
        "colab_type": "code",
        "id": "Nbf5egdn4QOo",
        "outputId": "daa087b7-e604-4350-ca87-4af0de220d93",
        "colab": {
          "base_uri": "https://localhost:8080/",
          "height": 34
        }
      },
      "source": [
        "%%timeit -n10\n",
        "state = model.forward(shape, 1000, params.params_test(), D, [s1, s2], dt)[0].block_until_ready()"
      ],
      "execution_count": 30,
      "outputs": [
        {
          "output_type": "stream",
          "text": [
            "10 loops, best of 3: 613 ms per loop\n"
          ],
          "name": "stdout"
        }
      ]
    },
    {
      "cell_type": "code",
      "metadata": {
        "id": "Ru38agKiIpdh",
        "colab_type": "code",
        "colab": {
          "base_uri": "https://localhost:8080/",
          "height": 34
        },
        "outputId": "986b0f5e-7e1f-4da7-9702-9cf2c6fb2165"
      },
      "source": [
        "%%timeit -n10\n",
        "state = model.init(shape)\n",
        "p = params.params_test()\n",
        "for t in range(1000):\n",
        "    state = model.step(state, t * dt, p, D, [s1, s2], dt)\n",
        "state[0].block_until_ready()"
      ],
      "execution_count": 17,
      "outputs": [
        {
          "output_type": "stream",
          "text": [
            "10 loops, best of 3: 2.34 s per loop\n"
          ],
          "name": "stdout"
        }
      ]
    },
    {
      "cell_type": "code",
      "metadata": {
        "id": "ygla5Fu22nqU",
        "colab_type": "code",
        "colab": {}
      },
      "source": [
        ""
      ],
      "execution_count": 0,
      "outputs": []
    }
  ]
}