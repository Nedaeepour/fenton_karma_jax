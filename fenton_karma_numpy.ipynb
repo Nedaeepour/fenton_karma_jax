{
  "nbformat": 4,
  "nbformat_minor": 0,
  "metadata": {
    "colab": {
      "name": "fenton_karma_jax_tpu.ipynb",
      "provenance": [],
      "collapsed_sections": [],
      "toc_visible": true,
      "include_colab_link": true
    },
    "kernelspec": {
      "name": "python3",
      "display_name": "Python 3"
    },
    "language_info": {
      "codemirror_mode": {
        "name": "ipython",
        "version": 3
      },
      "file_extension": ".py",
      "mimetype": "text/x-python",
      "name": "python",
      "nbconvert_exporter": "python",
      "pygments_lexer": "ipython3",
      "version": "3.7.6"
    }
  },
  "cells": [
    {
      "cell_type": "markdown",
      "metadata": {
        "id": "view-in-github",
        "colab_type": "text"
      },
      "source": [
        "<a href=\"https://colab.research.google.com/github/epignatelli/fenton_karma_jax/blob/master/fenton_karma_numpy.ipynb\" target=\"_parent\"><img src=\"https://colab.research.google.com/assets/colab-badge.svg\" alt=\"Open In Colab\"/></a>"
      ]
    },
    {
      "cell_type": "code",
      "metadata": {
        "colab_type": "code",
        "id": "Qqn_fPK5x8Qd",
        "outputId": "e20a0322-c78d-4a29-e888-73e2891323df",
        "colab": {
          "base_uri": "https://localhost:8080/",
          "height": 139
        }
      },
      "source": [
        "!git clone https://github.com/epignatelli/fenton_karma_jax.git"
      ],
      "execution_count": 2,
      "outputs": [
        {
          "output_type": "stream",
          "text": [
            "Cloning into 'fenton_karma_jax'...\n",
            "remote: Enumerating objects: 100, done.\u001b[K\n",
            "remote: Counting objects: 100% (100/100), done.\u001b[K\n",
            "remote: Compressing objects: 100% (87/87), done.\u001b[K\n",
            "remote: Total 100 (delta 49), reused 32 (delta 11), pack-reused 0\u001b[K\n",
            "Receiving objects: 100% (100/100), 350.46 KiB | 12.98 MiB/s, done.\n",
            "Resolving deltas: 100% (49/49), done.\n"
          ],
          "name": "stdout"
        }
      ]
    },
    {
      "cell_type": "code",
      "metadata": {
        "id": "fJ-GwOamnNKt",
        "colab_type": "code",
        "colab": {}
      },
      "source": [
        "from fenton_karma_jax import params\n",
        "import numpy as np\n",
        "import matplotlib.pyplot as plt"
      ],
      "execution_count": 0,
      "outputs": []
    },
    {
      "cell_type": "code",
      "metadata": {
        "colab_type": "code",
        "id": "h4wpfYDF31k4",
        "colab": {}
      },
      "source": [
        "def init(shape):\n",
        "    v = np.ones(shape) * 0.99\n",
        "    w = np.ones(shape) * 0.99\n",
        "    u = np.zeros(shape)\n",
        "    state = (v, w, u)   \n",
        "    return state\n",
        "\n",
        "\n",
        "def step(state, t, params, D, stimuli, dt):\n",
        "    v, w, u = state\n",
        "    \n",
        "    # apply stimulus\n",
        "    u = stimulate(t, u, stimuli)\n",
        "\n",
        "    # apply boundary conditions\n",
        "    v = neumann(v)\n",
        "    w = neumann(w)\n",
        "    u = neumann(u)\n",
        "\n",
        "    # gate variables\n",
        "    p = np.greater_equal(u, params[\"V_c\"])\n",
        "    q = np.greater_equal(u, params[\"V_v\"])\n",
        "    tau_v_minus = (1 - q) * params[\"tau_v1_minus\"] + q * params[\"tau_v2_minus\"]\n",
        "    \n",
        "    d_v = ((1 - p) * (1 - v) / tau_v_minus) - ((p * v) / params[\"tau_v_plus\"])\n",
        "    d_w = ((1 - p) * (1 - w) / params[\"tau_w_minus\"]) - ((p * w) / params[\"tau_w_plus\"])\n",
        "      \n",
        "    # currents\n",
        "    J_fi = - v * p * (u - params[\"V_c\"]) * (1 - u) / params[\"tau_d\"]\n",
        "    J_so = (u * (1 - p) / params[\"tau_0\"]) + (p / params[\"tau_r\"])\n",
        "    J_si = - (w * (1 + np.tanh(params[\"k\"] * (u - params[\"V_csi\"])))) / (2 * params[\"tau_si\"])\n",
        "    I_ion = -(J_fi + J_so + J_si) / params[\"Cm\"]\n",
        "\n",
        "    # voltage\n",
        "    u_x, u_y = np.gradient(u)\n",
        "    u_xx = np.gradient(u_x, axis=0)\n",
        "    u_yy = np.gradient(u_y, axis=1)\n",
        "    D_x, D_y = np.gradient(D)\n",
        "    d_u = 4 * D * (u_xx + u_yy) + ((D_x * u_x) + (D_y * u_y)) + I_ion\n",
        "    return euler((v, w, u), (d_v, d_w, d_u), dt)\n",
        "\n",
        "\n",
        "def euler(state, grad, dt):\n",
        "    v, w, u = state\n",
        "    d_v, d_w, d_u = grad\n",
        "\n",
        "    # explicit euler update\n",
        "    v += d_v * dt\n",
        "    w += d_w * dt\n",
        "    u += d_u * dt\n",
        "    return (v, w, u)\n",
        "\n",
        "\n",
        "def neumann(X):\n",
        "    X[0] = X[1]\n",
        "    X[1] = X[-2]\n",
        "    X[..., 0] = X[..., 1]\n",
        "    X[..., -1] = X[..., -2]\n",
        "    return X\n",
        "\n",
        "\n",
        "def stimulate(t, X, stimuli):\n",
        "    for stimulus in stimuli:\n",
        "        active = t > stimulus[\"start\"]\n",
        "        active &= t < stimulus[\"start\"] + stimulus[\"duration\"]\n",
        "        # for some weird reason checks for cyclic stimuli does not work \n",
        "        # active = (np.mod(t - stimulus[\"start\"], stimulus[\"period\"]) < stimulus[\"duration\"])  # cyclic\n",
        "        X = np.where(stimulus[\"field\"] * (active), stimulus[\"field\"], X)\n",
        "    return X\n",
        "\n",
        "\n",
        "def forward(shape, length, params, D, stimuli, dt, log_at=10):\n",
        "    # iterate\n",
        "    state = init(shape)\n",
        "    for i in range(length):\n",
        "        state = step(state, i * dt, params, D, stimuli, dt)\n",
        "    return state\n",
        "\n",
        "\n",
        "def show(state, **kwargs):\n",
        "    fig, ax = plt.subplots(1, 3, figsize=(kwargs.pop(\"figsize\", None) or (10, 3)))\n",
        "    im = ax[0].imshow(state[0], **kwargs)\n",
        "    plt.colorbar(im, ax=ax[0])\n",
        "    ax[0].set_title(\"v\")\n",
        "    im = ax[1].imshow(state[1], **kwargs)\n",
        "    plt.colorbar(im, ax=ax[1])\n",
        "    ax[1].set_title(\"w\")\n",
        "    im = ax[2].imshow(state[2], **kwargs)\n",
        "    plt.colorbar(im, ax=ax[2])\n",
        "    ax[2].set_title(\"u\")\n",
        "    plt.show()\n",
        "    return"
      ],
      "execution_count": 0,
      "outputs": []
    },
    {
      "cell_type": "code",
      "metadata": {
        "id": "lk1utm9YnNLA",
        "colab_type": "code",
        "colab": {}
      },
      "source": [
        "# geometry\n",
        "shape = (128, 128)\n",
        "dt = 0.1\n",
        "\n",
        "# diffusivity map\n",
        "d = 0.05\n",
        "D = np.ones(shape) * d\n",
        "\n",
        "# stimuli\n",
        "field = np.zeros(shape)\n",
        "field[0:20] = .8\n",
        "s1 = {\n",
        "    \"field\": field,\n",
        "    \"start\": 0,\n",
        "    \"duration\": 2,\n",
        "    \"period\": 0  # non-cyclic\n",
        "}\n",
        "\n",
        "field2 = np.zeros(shape)\n",
        "field2[:, -20:] = .5\n",
        "s2 = {\n",
        "    \"field\": field2,\n",
        "    \"start\": 200,\n",
        "    \"duration\": 2,\n",
        "    \"period\": 0  # non-cyclic\n",
        "}\n",
        "\n",
        "field3 = np.zeros(shape)\n",
        "field2[40:60] = .5\n",
        "s3 = {\n",
        "    \"field\": field3,\n",
        "    \"start\": 360,\n",
        "    \"duration\": 15,\n",
        "    \"period\": 0  # non-cyclic\n",
        "}"
      ],
      "execution_count": 0,
      "outputs": []
    },
    {
      "cell_type": "code",
      "metadata": {
        "colab_type": "code",
        "id": "Nbf5egdn4QOo",
        "outputId": "09f7c66c-aa3a-42e4-f1f8-ff7735197371",
        "colab": {
          "base_uri": "https://localhost:8080/",
          "height": 239
        }
      },
      "source": [
        "%%time\n",
        "state = forward(shape, 100000, params.params_test(), D, [s1, s2], dt)\n",
        "show(state, vmin=-1, vmax=1, cmap=\"RdBu\")"
      ],
      "execution_count": 6,
      "outputs": [
        {
          "output_type": "display_data",
          "data": {
            "image/png": "[encoded data removed]",
            "text/plain": [
              "<Figure size 720x216 with 6 Axes>"
            ]
          },
          "metadata": {
            "tags": []
          }
        },
        {
          "output_type": "stream",
          "text": [
            "CPU times: user 3min 7s, sys: 35.8 ms, total: 3min 7s\n",
            "Wall time: 3min 8s\n"
          ],
          "name": "stdout"
        }
      ]
    },
    {
      "cell_type": "code",
      "metadata": {
        "id": "jcHbEcTtnXbF",
        "colab_type": "code",
        "colab": {}
      },
      "source": [
        ""
      ],
      "execution_count": 0,
      "outputs": []
    }
  ]
}