{
 "cells": [
  {
   "cell_type": "code",
   "execution_count": 1,
   "metadata": {},
   "outputs": [],
   "source": [
    "%load_ext autoreload\n",
    "%autoreload 2"
   ]
  },
  {
   "cell_type": "code",
   "execution_count": 617,
   "metadata": {},
   "outputs": [],
   "source": [
    "import torch\n",
    "from torch import nn\n",
    "import torchvision\n",
    "import fk\n",
    "import h5py\n",
    "import matplotlib.pyplot as plt\n",
    "import deepexcite as de"
   ]
  },
  {
   "cell_type": "code",
   "execution_count": 683,
   "metadata": {},
   "outputs": [],
   "source": [
    "root = \"/media/ep119/DATADRIVE3/epignatelli/deepexcite/train_dev_set\"\n",
    "dataset = de.dataset.FkDataset(root, keys=[\"spiral_params5.hdf5\"])\n",
    "loader = torch.utils.data.DataLoader(dataset, batch_size=4, shuffle=True)"
   ]
  },
  {
   "cell_type": "code",
   "execution_count": 684,
   "metadata": {},
   "outputs": [
    {
     "data": {
      "text/plain": [
       "ConvVAE(\n",
       "  (encoder): Sequential(\n",
       "    (0): Conv2d(3, 8, kernel_size=(3, 3), stride=(3, 3))\n",
       "    (1): Elu()\n",
       "    (2): Conv2d(8, 16, kernel_size=(3, 3), stride=(3, 3))\n",
       "    (3): Elu()\n",
       "    (4): Conv2d(16, 32, kernel_size=(3, 3), stride=(3, 3))\n",
       "    (5): Elu()\n",
       "  )\n",
       "  (logvar): Linear(in_features=512, out_features=512, bias=True)\n",
       "  (mu): Linear(in_features=512, out_features=512, bias=True)\n",
       "  (latent): Linear(in_features=1, out_features=512, bias=True)\n",
       "  (decoder): Sequential(\n",
       "    (0): ConvTranspose2d(32, 16, kernel_size=(2, 2), stride=(2, 2))\n",
       "    (1): Conv2d(16, 16, kernel_size=(3, 3), stride=(1, 1))\n",
       "    (2): Elu()\n",
       "    (3): Conv2d(16, 8, kernel_size=(2, 2), stride=(2, 2))\n",
       "    (4): ConvTranspose2d(8, 8, kernel_size=(3, 3), stride=(1, 1))\n",
       "    (5): Elu()\n",
       "    (6): Conv2d(8, 3, kernel_size=(2, 2), stride=(2, 2))\n",
       "    (7): ConvTranspose2d(3, 3, kernel_size=(3, 3), stride=(1, 1))\n",
       "    (8): Sigmoid()\n",
       "  )\n",
       ")"
      ]
     },
     "execution_count": 684,
     "metadata": {},
     "output_type": "execute_result"
    }
   ],
   "source": [
    "model = de.model.ConvVAE(3, latent_dim=512)\n",
    "model"
   ]
  },
  {
   "cell_type": "code",
   "execution_count": 685,
   "metadata": {},
   "outputs": [],
   "source": [
    "states = dataset[200][\"states\"][0].unsqueeze(0)\n",
    "new_states = []\n",
    "for state in states:\n",
    "    pil_state = torchvision.transforms.functional.to_pil_image(state)\n",
    "    state = torchvision.transforms.functional.resize(pil_state, (128, 128))\n",
    "    new_states.append(torchvision.transforms.functional.to_tensor(state))\n",
    "states = torch.stack(new_states, dim=0)"
   ]
  },
  {
   "cell_type": "code",
   "execution_count": 686,
   "metadata": {},
   "outputs": [
    {
     "data": {
      "text/plain": [
       "torch.Size([1, 3, 128, 128])"
      ]
     },
     "execution_count": 686,
     "metadata": {},
     "output_type": "execute_result"
    }
   ],
   "source": [
    "states.shape"
   ]
  },
  {
   "cell_type": "code",
   "execution_count": 687,
   "metadata": {},
   "outputs": [
    {
     "name": "stdout",
     "output_type": "stream",
     "text": [
      "torch.Size([1, 32, 4, 4])\n",
      "torch.Size([1, 512])\n",
      "torch.Size([1, 512])\n"
     ]
    },
    {
     "data": {
      "text/plain": [
       "torch.Size([1, 3, 4, 4])"
      ]
     },
     "execution_count": 687,
     "metadata": {},
     "output_type": "execute_result"
    }
   ],
   "source": [
    "model(states)[0].shape"
   ]
  },
  {
   "cell_type": "code",
   "execution_count": null,
   "metadata": {},
   "outputs": [],
   "source": []
  },
  {
   "cell_type": "code",
   "execution_count": null,
   "metadata": {},
   "outputs": [],
   "source": []
  },
  {
   "cell_type": "code",
   "execution_count": null,
   "metadata": {},
   "outputs": [],
   "source": []
  },
  {
   "cell_type": "code",
   "execution_count": null,
   "metadata": {},
   "outputs": [],
   "source": []
  }
 ],
 "metadata": {
  "kernelspec": {
   "display_name": "Python 3",
   "language": "python",
   "name": "python3"
  },
  "language_info": {
   "codemirror_mode": {
    "name": "ipython",
    "version": 3
   },
   "file_extension": ".py",
   "mimetype": "text/x-python",
   "name": "python",
   "nbconvert_exporter": "python",
   "pygments_lexer": "ipython3",
   "version": "3.7.7"
  }
 },
 "nbformat": 4,
 "nbformat_minor": 4
}
