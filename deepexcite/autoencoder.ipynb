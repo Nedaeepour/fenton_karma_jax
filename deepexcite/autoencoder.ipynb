{
 "cells": [
  {
   "cell_type": "code",
   "execution_count": 1,
   "metadata": {},
   "outputs": [],
   "source": [
    "%load_ext autoreload\n",
    "%autoreload 2"
   ]
  },
  {
   "cell_type": "code",
   "execution_count": 2,
   "metadata": {},
   "outputs": [],
   "source": [
    "import torch\n",
    "import torchvision\n",
    "from torch import nn\n",
    "import torchvision.transforms as t\n",
    "from torch.utils.data import DataLoader\n",
    "from dataset import FkDataset\n",
    "import matplotlib.pyplot as plt\n",
    "import fk\n",
    "import numpy as np\n",
    "import random"
   ]
  },
  {
   "cell_type": "code",
   "execution_count": 3,
   "metadata": {},
   "outputs": [],
   "source": [
    "DEBUG = False"
   ]
  },
  {
   "cell_type": "code",
   "execution_count": 84,
   "metadata": {},
   "outputs": [],
   "source": [
    "class Downsample:\n",
    "    def __init__(self, size, mode=\"bicubic\"):\n",
    "        self.size = size\n",
    "        self.mode = mode\n",
    "    \n",
    "    def __call__(self, x):\n",
    "        return torch.nn.functional.interpolate(x, self.size)\n",
    "\n",
    "class Flatten(nn.Module):\n",
    "    def forward(self, input):\n",
    "        return input.view(input.size(0), -1)\n",
    "    \n",
    "class Unflatten(nn.Module):\n",
    "    def __init__(self, size=256, h=None, w=None):\n",
    "        self.size = size\n",
    "        self.h = h if h is not None else 1\n",
    "        self.w = w if w is not None else 1\n",
    "        super(Unflatten, self).__init__()\n",
    "    def forward(self, input):\n",
    "        return input.view(input.size(0), self.size, self.w, self.h)\n",
    "\n",
    "class Elu(nn.Module):\n",
    "    def forward(self, x):\n",
    "        return nn.functional.elu(x)\n",
    "\n",
    "class ConvBlock(nn.Sequential):\n",
    "    def __init__(self, in_channels, out_channels, kernel_size, stride, pool_kernel_size):\n",
    "        modules = [\n",
    "            nn.Conv2d(in_channels, out_channels, kernel_size, stride),\n",
    "            Elu(),\n",
    "            nn.MaxPool2d(pool_kernel_size),\n",
    "        ]\n",
    "        super(ConvBlock, self).__init__(*modules)\n",
    "\n",
    "class ConvTransposeBlock(nn.Sequential):\n",
    "    def __init__(self, in_channels, out_channels, kernel_size, stride):\n",
    "        modules = [\n",
    "            nn.ConvTranspose2d(in_channels, out_channels, kernel_size, stride),\n",
    "            nn.ConvTranspose2d(out_channels, out_channels, kernel_size, stride),\n",
    "            nn.Conv2d(out_channels, out_channels, 1, 1),\n",
    "            Elu(),\n",
    "        ]\n",
    "        super(ConvTransposeBlock, self).__init__(*modules)\n",
    "        \n",
    "class Autoencoder(nn.Module):\n",
    "    def __init__(self, input_size, hidden_dim):\n",
    "        super(Autoencoder, self).__init__()\n",
    "        \n",
    "        self.encoder = nn.ModuleList([\n",
    "            ConvBlock(3, 8, 3, 1, 3),\n",
    "            ConvBlock(8, 16, 3, 1, 3),\n",
    "            ConvBlock(16, 32, 3, 1, 3),\n",
    "            ConvBlock(32, 64, 3, 1, 3),\n",
    "            Flatten(),\n",
    "        ])\n",
    "        \n",
    "        self.latent_encode = nn.Linear(input_size, hidden_dim)\n",
    "        self.latent_decode = nn.Linear(hidden_dim, input_size)\n",
    "        \n",
    "        self.decoder = nn.ModuleList([\n",
    "            Unflatten(64, 2, 2),\n",
    "            ConvTransposeBlock(64, 32, 3, 2),\n",
    "            ConvTransposeBlock(32, 16, 3, 2),\n",
    "            ConvTransposeBlock(16, 8, 2, 2),\n",
    "            ConvTransposeBlock(8, 3, 3, 1),\n",
    "        ])\n",
    "    \n",
    "    @property\n",
    "    def n_params(self):\n",
    "        return sum(p.numel() for p in self.parameters())\n",
    "    \n",
    "    def encode(self, x):\n",
    "        for module in self.encoder:\n",
    "            x = module(x)\n",
    "            print(x.shape)\n",
    "        return x\n",
    "    \n",
    "    def decode(self, z):\n",
    "        for module in self.decoder:\n",
    "            z = module(z)\n",
    "            print(z.shape)\n",
    "        return z        \n",
    "    \n",
    "    def forward(self, x):\n",
    "        x = self.encode(x)\n",
    "        z = self.latent_encode(x)\n",
    "        z = self.latent_decode(z)\n",
    "        y_hat = self.decode(z) \n",
    "        return y_hat"
   ]
  },
  {
   "cell_type": "code",
   "execution_count": 85,
   "metadata": {},
   "outputs": [
    {
     "data": {
      "text/plain": [
       "torch.Size([3, 256, 256])"
      ]
     },
     "execution_count": 85,
     "metadata": {},
     "output_type": "execute_result"
    }
   ],
   "source": [
    "fkset[100].shape"
   ]
  },
  {
   "cell_type": "code",
   "execution_count": 86,
   "metadata": {},
   "outputs": [
    {
     "name": "stdout",
     "output_type": "stream",
     "text": [
      "torch.Size([1, 8, 84, 84])\n",
      "torch.Size([1, 16, 27, 27])\n",
      "torch.Size([1, 32, 8, 8])\n",
      "torch.Size([1, 64, 2, 2])\n",
      "torch.Size([1, 256])\n",
      "torch.Size([1, 64, 2, 2])\n",
      "torch.Size([1, 32, 11, 11])\n",
      "torch.Size([1, 16, 15, 15])\n",
      "torch.Size([1, 8, 60, 60])\n",
      "torch.Size([1, 3, 62, 62])\n"
     ]
    },
    {
     "data": {
      "text/plain": [
       "torch.Size([1, 3, 62, 62])"
      ]
     },
     "execution_count": 86,
     "metadata": {},
     "output_type": "execute_result"
    }
   ],
   "source": [
    "Autoencoder(256, 512)(fkset[0].unsqueeze(0)).shape"
   ]
  },
  {
   "cell_type": "code",
   "execution_count": 14,
   "metadata": {},
   "outputs": [
    {
     "name": "stdout",
     "output_type": "stream",
     "text": [
      "Autoencoder(\n",
      "  (encoder): ModuleList(\n",
      "    (0): ConvBlock(\n",
      "      (0): Conv2d(3, 8, kernel_size=(3, 3), stride=(1, 1))\n",
      "      (1): Elu()\n",
      "      (2): MaxPool2d(kernel_size=3, stride=3, padding=0, dilation=1, ceil_mode=False)\n",
      "    )\n",
      "    (1): ConvBlock(\n",
      "      (0): Conv2d(8, 16, kernel_size=(3, 3), stride=(1, 1))\n",
      "      (1): Elu()\n",
      "      (2): MaxPool2d(kernel_size=3, stride=3, padding=0, dilation=1, ceil_mode=False)\n",
      "    )\n",
      "    (2): ConvBlock(\n",
      "      (0): Conv2d(16, 32, kernel_size=(3, 3), stride=(1, 1))\n",
      "      (1): Elu()\n",
      "      (2): MaxPool2d(kernel_size=3, stride=3, padding=0, dilation=1, ceil_mode=False)\n",
      "    )\n",
      "    (3): ConvBlock(\n",
      "      (0): Conv2d(32, 64, kernel_size=(3, 3), stride=(1, 1))\n",
      "      (1): Elu()\n",
      "      (2): MaxPool2d(kernel_size=3, stride=3, padding=0, dilation=1, ceil_mode=False)\n",
      "    )\n",
      "    (4): Flatten()\n",
      "  )\n",
      "  (latent_encode): Linear(in_features=256, out_features=128, bias=True)\n",
      "  (latent_decode): Linear(in_features=128, out_features=256, bias=True)\n",
      "  (decoder): ModuleList(\n",
      "    (0): Unflatten()\n",
      "    (1): ConvTransposeBlock(\n",
      "      (0): ConvTranspose2d(64, 64, kernel_size=(5, 5), stride=(2, 2))\n",
      "      (1): ConvTranspose2d(64, 64, kernel_size=(5, 5), stride=(2, 2))\n",
      "      (2): Conv2d(64, 64, kernel_size=(1, 1), stride=(2, 2))\n",
      "      (3): Elu()\n",
      "    )\n",
      "    (2): ConvTransposeBlock(\n",
      "      (0): ConvTranspose2d(32, 32, kernel_size=(5, 5), stride=(2, 2))\n",
      "      (1): ConvTranspose2d(32, 32, kernel_size=(5, 5), stride=(2, 2))\n",
      "      (2): Conv2d(32, 32, kernel_size=(1, 1), stride=(2, 2))\n",
      "      (3): Elu()\n",
      "    )\n",
      "    (3): ConvTransposeBlock(\n",
      "      (0): ConvTranspose2d(32, 16, kernel_size=(5, 5), stride=(2, 2))\n",
      "      (1): ConvTranspose2d(16, 16, kernel_size=(5, 5), stride=(2, 2))\n",
      "      (2): Conv2d(16, 16, kernel_size=(1, 1), stride=(2, 2))\n",
      "      (3): Elu()\n",
      "    )\n",
      "    (4): ConvTransposeBlock(\n",
      "      (0): ConvTranspose2d(16, 8, kernel_size=(5, 5), stride=(2, 2))\n",
      "      (1): ConvTranspose2d(8, 8, kernel_size=(5, 5), stride=(2, 2))\n",
      "      (2): Conv2d(8, 8, kernel_size=(1, 1), stride=(2, 2))\n",
      "      (3): Elu()\n",
      "    )\n",
      "    (5): ConvTransposeBlock(\n",
      "      (0): ConvTranspose2d(8, 8, kernel_size=(5, 5), stride=(2, 2))\n",
      "      (1): ConvTranspose2d(8, 8, kernel_size=(5, 5), stride=(2, 2))\n",
      "      (2): Conv2d(8, 8, kernel_size=(1, 1), stride=(2, 2))\n",
      "      (3): Elu()\n",
      "    )\n",
      "  )\n",
      ")\n",
      "379536 paramameters\n",
      "torch.Size([1, 8, 84, 84])\n",
      "torch.Size([1, 16, 27, 27])\n",
      "torch.Size([1, 32, 8, 8])\n",
      "torch.Size([1, 64, 2, 2])\n",
      "torch.Size([1, 256])\n",
      "torch.Size([1, 64, 2, 2])\n",
      "torch.Size([1, 64, 9, 9])\n"
     ]
    },
    {
     "ename": "RuntimeError",
     "evalue": "Given transposed=1, weight of size [32, 32, 5, 5], expected input[1, 64, 9, 9] to have 32 channels, but got 64 channels instead",
     "output_type": "error",
     "traceback": [
      "\u001b[0;31m---------------------------------------------------------------------------\u001b[0m",
      "\u001b[0;31mRuntimeError\u001b[0m                              Traceback (most recent call last)",
      "\u001b[0;32m<ipython-input-14-3b6400f9706b>\u001b[0m in \u001b[0;36m<module>\u001b[0;34m\u001b[0m\n\u001b[1;32m     21\u001b[0m \u001b[0;34m\u001b[0m\u001b[0m\n\u001b[1;32m     22\u001b[0m     \u001b[0;31m## TEST\u001b[0m\u001b[0;34m\u001b[0m\u001b[0;34m\u001b[0m\u001b[0;34m\u001b[0m\u001b[0m\n\u001b[0;32m---> 23\u001b[0;31m     \u001b[0mAutoencoder\u001b[0m\u001b[0;34m(\u001b[0m\u001b[0;36m256\u001b[0m\u001b[0;34m,\u001b[0m \u001b[0;36m512\u001b[0m\u001b[0;34m)\u001b[0m\u001b[0;34m(\u001b[0m\u001b[0mfkset\u001b[0m\u001b[0;34m[\u001b[0m\u001b[0;36m0\u001b[0m\u001b[0;34m]\u001b[0m\u001b[0;34m.\u001b[0m\u001b[0munsqueeze\u001b[0m\u001b[0;34m(\u001b[0m\u001b[0;36m0\u001b[0m\u001b[0;34m)\u001b[0m\u001b[0;34m)\u001b[0m\u001b[0;34m.\u001b[0m\u001b[0mshape\u001b[0m\u001b[0;34m\u001b[0m\u001b[0;34m\u001b[0m\u001b[0m\n\u001b[0m\u001b[1;32m     24\u001b[0m \u001b[0;34m\u001b[0m\u001b[0m\n\u001b[1;32m     25\u001b[0m     \u001b[0;31m## OPTIMISE\u001b[0m\u001b[0;34m\u001b[0m\u001b[0;34m\u001b[0m\u001b[0;34m\u001b[0m\u001b[0m\n",
      "\u001b[0;32m~/.conda/envs/fk/lib/python3.7/site-packages/torch/nn/modules/module.py\u001b[0m in \u001b[0;36m__call__\u001b[0;34m(self, *input, **kwargs)\u001b[0m\n\u001b[1;32m    548\u001b[0m             \u001b[0mresult\u001b[0m \u001b[0;34m=\u001b[0m \u001b[0mself\u001b[0m\u001b[0;34m.\u001b[0m\u001b[0m_slow_forward\u001b[0m\u001b[0;34m(\u001b[0m\u001b[0;34m*\u001b[0m\u001b[0minput\u001b[0m\u001b[0;34m,\u001b[0m \u001b[0;34m**\u001b[0m\u001b[0mkwargs\u001b[0m\u001b[0;34m)\u001b[0m\u001b[0;34m\u001b[0m\u001b[0;34m\u001b[0m\u001b[0m\n\u001b[1;32m    549\u001b[0m         \u001b[0;32melse\u001b[0m\u001b[0;34m:\u001b[0m\u001b[0;34m\u001b[0m\u001b[0;34m\u001b[0m\u001b[0m\n\u001b[0;32m--> 550\u001b[0;31m             \u001b[0mresult\u001b[0m \u001b[0;34m=\u001b[0m \u001b[0mself\u001b[0m\u001b[0;34m.\u001b[0m\u001b[0mforward\u001b[0m\u001b[0;34m(\u001b[0m\u001b[0;34m*\u001b[0m\u001b[0minput\u001b[0m\u001b[0;34m,\u001b[0m \u001b[0;34m**\u001b[0m\u001b[0mkwargs\u001b[0m\u001b[0;34m)\u001b[0m\u001b[0;34m\u001b[0m\u001b[0;34m\u001b[0m\u001b[0m\n\u001b[0m\u001b[1;32m    551\u001b[0m         \u001b[0;32mfor\u001b[0m \u001b[0mhook\u001b[0m \u001b[0;32min\u001b[0m \u001b[0mself\u001b[0m\u001b[0;34m.\u001b[0m\u001b[0m_forward_hooks\u001b[0m\u001b[0;34m.\u001b[0m\u001b[0mvalues\u001b[0m\u001b[0;34m(\u001b[0m\u001b[0;34m)\u001b[0m\u001b[0;34m:\u001b[0m\u001b[0;34m\u001b[0m\u001b[0;34m\u001b[0m\u001b[0m\n\u001b[1;32m    552\u001b[0m             \u001b[0mhook_result\u001b[0m \u001b[0;34m=\u001b[0m \u001b[0mhook\u001b[0m\u001b[0;34m(\u001b[0m\u001b[0mself\u001b[0m\u001b[0;34m,\u001b[0m \u001b[0minput\u001b[0m\u001b[0;34m,\u001b[0m \u001b[0mresult\u001b[0m\u001b[0;34m)\u001b[0m\u001b[0;34m\u001b[0m\u001b[0;34m\u001b[0m\u001b[0m\n",
      "\u001b[0;32m<ipython-input-9-fd9368f1257d>\u001b[0m in \u001b[0;36mforward\u001b[0;34m(self, x)\u001b[0m\n\u001b[1;32m     87\u001b[0m         \u001b[0mz\u001b[0m \u001b[0;34m=\u001b[0m \u001b[0mself\u001b[0m\u001b[0;34m.\u001b[0m\u001b[0mlatent_encode\u001b[0m\u001b[0;34m(\u001b[0m\u001b[0mx\u001b[0m\u001b[0;34m)\u001b[0m\u001b[0;34m\u001b[0m\u001b[0;34m\u001b[0m\u001b[0m\n\u001b[1;32m     88\u001b[0m         \u001b[0mz\u001b[0m \u001b[0;34m=\u001b[0m \u001b[0mself\u001b[0m\u001b[0;34m.\u001b[0m\u001b[0mlatent_decode\u001b[0m\u001b[0;34m(\u001b[0m\u001b[0mz\u001b[0m\u001b[0;34m)\u001b[0m\u001b[0;34m\u001b[0m\u001b[0;34m\u001b[0m\u001b[0m\n\u001b[0;32m---> 89\u001b[0;31m         \u001b[0my_hat\u001b[0m \u001b[0;34m=\u001b[0m \u001b[0mself\u001b[0m\u001b[0;34m.\u001b[0m\u001b[0mdecode\u001b[0m\u001b[0;34m(\u001b[0m\u001b[0mz\u001b[0m\u001b[0;34m)\u001b[0m\u001b[0;34m\u001b[0m\u001b[0;34m\u001b[0m\u001b[0m\n\u001b[0m\u001b[1;32m     90\u001b[0m         \u001b[0;32mreturn\u001b[0m \u001b[0my_hat\u001b[0m\u001b[0;34m\u001b[0m\u001b[0;34m\u001b[0m\u001b[0m\n",
      "\u001b[0;32m<ipython-input-9-fd9368f1257d>\u001b[0m in \u001b[0;36mdecode\u001b[0;34m(self, z)\u001b[0m\n\u001b[1;32m     79\u001b[0m     \u001b[0;32mdef\u001b[0m \u001b[0mdecode\u001b[0m\u001b[0;34m(\u001b[0m\u001b[0mself\u001b[0m\u001b[0;34m,\u001b[0m \u001b[0mz\u001b[0m\u001b[0;34m)\u001b[0m\u001b[0;34m:\u001b[0m\u001b[0;34m\u001b[0m\u001b[0;34m\u001b[0m\u001b[0m\n\u001b[1;32m     80\u001b[0m         \u001b[0;32mfor\u001b[0m \u001b[0mmodule\u001b[0m \u001b[0;32min\u001b[0m \u001b[0mself\u001b[0m\u001b[0;34m.\u001b[0m\u001b[0mdecoder\u001b[0m\u001b[0;34m:\u001b[0m\u001b[0;34m\u001b[0m\u001b[0;34m\u001b[0m\u001b[0m\n\u001b[0;32m---> 81\u001b[0;31m             \u001b[0mz\u001b[0m \u001b[0;34m=\u001b[0m \u001b[0mmodule\u001b[0m\u001b[0;34m(\u001b[0m\u001b[0mz\u001b[0m\u001b[0;34m)\u001b[0m\u001b[0;34m\u001b[0m\u001b[0;34m\u001b[0m\u001b[0m\n\u001b[0m\u001b[1;32m     82\u001b[0m             \u001b[0mprint\u001b[0m\u001b[0;34m(\u001b[0m\u001b[0mz\u001b[0m\u001b[0;34m.\u001b[0m\u001b[0mshape\u001b[0m\u001b[0;34m)\u001b[0m\u001b[0;34m\u001b[0m\u001b[0;34m\u001b[0m\u001b[0m\n\u001b[1;32m     83\u001b[0m         \u001b[0;32mreturn\u001b[0m \u001b[0mz\u001b[0m\u001b[0;34m\u001b[0m\u001b[0;34m\u001b[0m\u001b[0m\n",
      "\u001b[0;32m~/.conda/envs/fk/lib/python3.7/site-packages/torch/nn/modules/module.py\u001b[0m in \u001b[0;36m__call__\u001b[0;34m(self, *input, **kwargs)\u001b[0m\n\u001b[1;32m    548\u001b[0m             \u001b[0mresult\u001b[0m \u001b[0;34m=\u001b[0m \u001b[0mself\u001b[0m\u001b[0;34m.\u001b[0m\u001b[0m_slow_forward\u001b[0m\u001b[0;34m(\u001b[0m\u001b[0;34m*\u001b[0m\u001b[0minput\u001b[0m\u001b[0;34m,\u001b[0m \u001b[0;34m**\u001b[0m\u001b[0mkwargs\u001b[0m\u001b[0;34m)\u001b[0m\u001b[0;34m\u001b[0m\u001b[0;34m\u001b[0m\u001b[0m\n\u001b[1;32m    549\u001b[0m         \u001b[0;32melse\u001b[0m\u001b[0;34m:\u001b[0m\u001b[0;34m\u001b[0m\u001b[0;34m\u001b[0m\u001b[0m\n\u001b[0;32m--> 550\u001b[0;31m             \u001b[0mresult\u001b[0m \u001b[0;34m=\u001b[0m \u001b[0mself\u001b[0m\u001b[0;34m.\u001b[0m\u001b[0mforward\u001b[0m\u001b[0;34m(\u001b[0m\u001b[0;34m*\u001b[0m\u001b[0minput\u001b[0m\u001b[0;34m,\u001b[0m \u001b[0;34m**\u001b[0m\u001b[0mkwargs\u001b[0m\u001b[0;34m)\u001b[0m\u001b[0;34m\u001b[0m\u001b[0;34m\u001b[0m\u001b[0m\n\u001b[0m\u001b[1;32m    551\u001b[0m         \u001b[0;32mfor\u001b[0m \u001b[0mhook\u001b[0m \u001b[0;32min\u001b[0m \u001b[0mself\u001b[0m\u001b[0;34m.\u001b[0m\u001b[0m_forward_hooks\u001b[0m\u001b[0;34m.\u001b[0m\u001b[0mvalues\u001b[0m\u001b[0;34m(\u001b[0m\u001b[0;34m)\u001b[0m\u001b[0;34m:\u001b[0m\u001b[0;34m\u001b[0m\u001b[0;34m\u001b[0m\u001b[0m\n\u001b[1;32m    552\u001b[0m             \u001b[0mhook_result\u001b[0m \u001b[0;34m=\u001b[0m \u001b[0mhook\u001b[0m\u001b[0;34m(\u001b[0m\u001b[0mself\u001b[0m\u001b[0;34m,\u001b[0m \u001b[0minput\u001b[0m\u001b[0;34m,\u001b[0m \u001b[0mresult\u001b[0m\u001b[0;34m)\u001b[0m\u001b[0;34m\u001b[0m\u001b[0;34m\u001b[0m\u001b[0m\n",
      "\u001b[0;32m~/.conda/envs/fk/lib/python3.7/site-packages/torch/nn/modules/container.py\u001b[0m in \u001b[0;36mforward\u001b[0;34m(self, input)\u001b[0m\n\u001b[1;32m     98\u001b[0m     \u001b[0;32mdef\u001b[0m \u001b[0mforward\u001b[0m\u001b[0;34m(\u001b[0m\u001b[0mself\u001b[0m\u001b[0;34m,\u001b[0m \u001b[0minput\u001b[0m\u001b[0;34m)\u001b[0m\u001b[0;34m:\u001b[0m\u001b[0;34m\u001b[0m\u001b[0;34m\u001b[0m\u001b[0m\n\u001b[1;32m     99\u001b[0m         \u001b[0;32mfor\u001b[0m \u001b[0mmodule\u001b[0m \u001b[0;32min\u001b[0m \u001b[0mself\u001b[0m\u001b[0;34m:\u001b[0m\u001b[0;34m\u001b[0m\u001b[0;34m\u001b[0m\u001b[0m\n\u001b[0;32m--> 100\u001b[0;31m             \u001b[0minput\u001b[0m \u001b[0;34m=\u001b[0m \u001b[0mmodule\u001b[0m\u001b[0;34m(\u001b[0m\u001b[0minput\u001b[0m\u001b[0;34m)\u001b[0m\u001b[0;34m\u001b[0m\u001b[0;34m\u001b[0m\u001b[0m\n\u001b[0m\u001b[1;32m    101\u001b[0m         \u001b[0;32mreturn\u001b[0m \u001b[0minput\u001b[0m\u001b[0;34m\u001b[0m\u001b[0;34m\u001b[0m\u001b[0m\n\u001b[1;32m    102\u001b[0m \u001b[0;34m\u001b[0m\u001b[0m\n",
      "\u001b[0;32m~/.conda/envs/fk/lib/python3.7/site-packages/torch/nn/modules/module.py\u001b[0m in \u001b[0;36m__call__\u001b[0;34m(self, *input, **kwargs)\u001b[0m\n\u001b[1;32m    548\u001b[0m             \u001b[0mresult\u001b[0m \u001b[0;34m=\u001b[0m \u001b[0mself\u001b[0m\u001b[0;34m.\u001b[0m\u001b[0m_slow_forward\u001b[0m\u001b[0;34m(\u001b[0m\u001b[0;34m*\u001b[0m\u001b[0minput\u001b[0m\u001b[0;34m,\u001b[0m \u001b[0;34m**\u001b[0m\u001b[0mkwargs\u001b[0m\u001b[0;34m)\u001b[0m\u001b[0;34m\u001b[0m\u001b[0;34m\u001b[0m\u001b[0m\n\u001b[1;32m    549\u001b[0m         \u001b[0;32melse\u001b[0m\u001b[0;34m:\u001b[0m\u001b[0;34m\u001b[0m\u001b[0;34m\u001b[0m\u001b[0m\n\u001b[0;32m--> 550\u001b[0;31m             \u001b[0mresult\u001b[0m \u001b[0;34m=\u001b[0m \u001b[0mself\u001b[0m\u001b[0;34m.\u001b[0m\u001b[0mforward\u001b[0m\u001b[0;34m(\u001b[0m\u001b[0;34m*\u001b[0m\u001b[0minput\u001b[0m\u001b[0;34m,\u001b[0m \u001b[0;34m**\u001b[0m\u001b[0mkwargs\u001b[0m\u001b[0;34m)\u001b[0m\u001b[0;34m\u001b[0m\u001b[0;34m\u001b[0m\u001b[0m\n\u001b[0m\u001b[1;32m    551\u001b[0m         \u001b[0;32mfor\u001b[0m \u001b[0mhook\u001b[0m \u001b[0;32min\u001b[0m \u001b[0mself\u001b[0m\u001b[0;34m.\u001b[0m\u001b[0m_forward_hooks\u001b[0m\u001b[0;34m.\u001b[0m\u001b[0mvalues\u001b[0m\u001b[0;34m(\u001b[0m\u001b[0;34m)\u001b[0m\u001b[0;34m:\u001b[0m\u001b[0;34m\u001b[0m\u001b[0;34m\u001b[0m\u001b[0m\n\u001b[1;32m    552\u001b[0m             \u001b[0mhook_result\u001b[0m \u001b[0;34m=\u001b[0m \u001b[0mhook\u001b[0m\u001b[0;34m(\u001b[0m\u001b[0mself\u001b[0m\u001b[0;34m,\u001b[0m \u001b[0minput\u001b[0m\u001b[0;34m,\u001b[0m \u001b[0mresult\u001b[0m\u001b[0;34m)\u001b[0m\u001b[0;34m\u001b[0m\u001b[0;34m\u001b[0m\u001b[0m\n",
      "\u001b[0;32m~/.conda/envs/fk/lib/python3.7/site-packages/torch/nn/modules/conv.py\u001b[0m in \u001b[0;36mforward\u001b[0;34m(self, input, output_size)\u001b[0m\n\u001b[1;32m    788\u001b[0m         return F.conv_transpose2d(\n\u001b[1;32m    789\u001b[0m             \u001b[0minput\u001b[0m\u001b[0;34m,\u001b[0m \u001b[0mself\u001b[0m\u001b[0;34m.\u001b[0m\u001b[0mweight\u001b[0m\u001b[0;34m,\u001b[0m \u001b[0mself\u001b[0m\u001b[0;34m.\u001b[0m\u001b[0mbias\u001b[0m\u001b[0;34m,\u001b[0m \u001b[0mself\u001b[0m\u001b[0;34m.\u001b[0m\u001b[0mstride\u001b[0m\u001b[0;34m,\u001b[0m \u001b[0mself\u001b[0m\u001b[0;34m.\u001b[0m\u001b[0mpadding\u001b[0m\u001b[0;34m,\u001b[0m\u001b[0;34m\u001b[0m\u001b[0;34m\u001b[0m\u001b[0m\n\u001b[0;32m--> 790\u001b[0;31m             output_padding, self.groups, self.dilation)\n\u001b[0m\u001b[1;32m    791\u001b[0m \u001b[0;34m\u001b[0m\u001b[0m\n\u001b[1;32m    792\u001b[0m \u001b[0;34m\u001b[0m\u001b[0m\n",
      "\u001b[0;31mRuntimeError\u001b[0m: Given transposed=1, weight of size [32, 32, 5, 5], expected input[1, 64, 9, 9] to have 32 channels, but got 64 channels instead"
     ]
    }
   ],
   "source": [
    "if __name__ == \"__main__\":\n",
    "    ## HYPERPARAMS\n",
    "    root = \"/home/ep119/repos/fenton_karma_jax/data/train_dev_set/\"\n",
    "    epochs = 100000\n",
    "    device = torch.device(\"cuda\")\n",
    "    input_size = 256\n",
    "    hidden_dim = 128\n",
    "    loss_coeff = {\n",
    "        \"mse\": 10000.,\n",
    "        \"kld\": 1.,\n",
    "        \"grad\": 0.\n",
    "    }\n",
    "    \n",
    "    ## SETUP\n",
    "    fkset = FkDataset(root, 1, 0, 1, transforms=t.Compose([Downsample((input_size, input_size))]), squeeze=True)\n",
    "    loader = DataLoader(fkset, batch_size=32, shuffle=True, num_workers=0 if DEBUG else 12)\n",
    "    vae = Autoencoder(input_size=input_size, hidden_dim=hidden_dim).to(device)\n",
    "    optimiser = torch.optim.Adam(vae.parameters())\n",
    "    print(vae)\n",
    "    print(\"{} paramameters\".format(vae.n_params))\n",
    "    \n",
    "    ## TEST\n",
    "    Autoencoder(256, 512)(fkset[0].unsqueeze(0)).shape\n",
    "    \n",
    "    ## OPTIMISE\n",
    "#     for e in range(epochs):\n",
    "#         for b, sample in enumerate(loader):\n",
    "#             pred, loss = vae(sample.to(device))\n",
    "#             loss = {k: loss[k] * loss_coeff[k] for k in loss}\n",
    "#             total_loss = sum(loss.values())\n",
    "\n",
    "#             total_loss.backward()\n",
    "#             optimiser.step()\n",
    "#             optimiser.zero_grad()\n",
    "\n",
    "#             log_progress(e, b, len(loader), loss)\n",
    "#             idx = random.randint(0, len(pred) - 1)\n",
    "#         plot_progress(e, pred[idx], sample[idx], total_loss)"
   ]
  },
  {
   "cell_type": "code",
   "execution_count": null,
   "metadata": {},
   "outputs": [],
   "source": []
  }
 ],
 "metadata": {
  "kernelspec": {
   "display_name": "Python 3",
   "language": "python",
   "name": "python3"
  },
  "language_info": {
   "codemirror_mode": {
    "name": "ipython",
    "version": 3
   },
   "file_extension": ".py",
   "mimetype": "text/x-python",
   "name": "python",
   "nbconvert_exporter": "python",
   "pygments_lexer": "ipython3",
   "version": "3.7.7"
  }
 },
 "nbformat": 4,
 "nbformat_minor": 4
}
