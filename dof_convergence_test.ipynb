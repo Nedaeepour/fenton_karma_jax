{
 "cells": [
  {
   "cell_type": "code",
   "execution_count": 1,
   "metadata": {},
   "outputs": [],
   "source": [
    "import params\n",
    "import model\n",
    "import matplotlib.pyplot as plt\n",
    "import jax\n",
    "import jax.numpy as np"
   ]
  },
  {
   "cell_type": "code",
   "execution_count": 2,
   "metadata": {},
   "outputs": [
    {
     "name": "stderr",
     "output_type": "stream",
     "text": [
      "/home/epignatelli/repos/jax/jax/lib/xla_bridge.py:123: UserWarning: No GPU/TPU found, falling back to CPU.\n",
      "  warnings.warn('No GPU/TPU found, falling back to CPU.')\n"
     ]
    }
   ],
   "source": [
    "# simulation\n",
    "tissue_size = (12.5, 12.5)  #cm\n",
    "dx = 0.025  # 1/cm\n",
    "dt = 0.01\n",
    "shape = (int(tissue_size[0] / dx), int(tissue_size[1] / dx))\n",
    "length = 10  # ms\n",
    "d = 0.05  # cm/ms\n",
    "\n",
    "# stimuli\n",
    "field = np.zeros(shape)\n",
    "field = jax.ops.index_update(field, jax.ops.index[0:20], .8)\n",
    "s1 = {\n",
    "    \"field\": field,\n",
    "    \"start\": 0,\n",
    "    \"duration\": 2,\n",
    "    \"period\": 0  # non-cyclic\n",
    "}\n",
    "\n",
    "field2 = np.zeros(shape)\n",
    "field2 = jax.ops.index_update(field, jax.ops.index[:, -20:], .5)\n",
    "s2 = {\n",
    "    \"field\": field2,\n",
    "    \"start\": 200,\n",
    "    \"duration\": 2,\n",
    "    \"period\": 0  # non-cyclic\n",
    "}\n",
    "\n",
    "field3 = np.zeros(shape)\n",
    "field2 = jax.ops.index_update(field, jax.ops.index[40:60], .5)\n",
    "s3 = {\n",
    "    \"field\": field3,\n",
    "    \"start\": 360,\n",
    "    \"duration\": 15,\n",
    "    \"period\": 0  # non-cyclic\n",
    "}"
   ]
  },
  {
   "cell_type": "code",
   "execution_count": 6,
   "metadata": {},
   "outputs": [],
   "source": [
    "state = model.forward(tissue_size=tissue_size,\n",
    "                      cell_parameters=params.params3(),\n",
    "                      end_time=length,\n",
    "                      diffusion=d,\n",
    "                      stimuli=[s1, s2],\n",
    "                      dt=dt,\n",
    "                      dx=dx)"
   ]
  },
  {
   "cell_type": "code",
   "execution_count": 7,
   "metadata": {},
   "outputs": [
    {
     "data": {
      "image/png": "[encoded data removed]",
      "text/plain": [
       "<Figure size 720x216 with 6 Axes>"
      ]
     },
     "metadata": {
      "needs_background": "light"
     },
     "output_type": "display_data"
    }
   ],
   "source": [
    "model.show(state)"
   ]
  },
  {
   "cell_type": "code",
   "execution_count": null,
   "metadata": {},
   "outputs": [],
   "source": []
  }
 ],
 "metadata": {
  "kernelspec": {
   "display_name": "Python 3",
   "language": "python",
   "name": "python3"
  },
  "language_info": {
   "codemirror_mode": {
    "name": "ipython",
    "version": 3
   },
   "file_extension": ".py",
   "mimetype": "text/x-python",
   "name": "python",
   "nbconvert_exporter": "python",
   "pygments_lexer": "ipython3",
   "version": "3.7.7"
  }
 },
 "nbformat": 4,
 "nbformat_minor": 4
}
