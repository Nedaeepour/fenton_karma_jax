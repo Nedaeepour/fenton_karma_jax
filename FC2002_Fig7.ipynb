{
 "cells": [
  {
   "cell_type": "code",
   "execution_count": 1,
   "metadata": {},
   "outputs": [],
   "source": [
    "import os\n",
    "import matplotlib.pyplot as plt\n",
    "import jax\n",
    "import jax.numpy as np\n",
    "import params\n",
    "import model\n",
    "import convert\n",
    "import stimulus"
   ]
  },
  {
   "cell_type": "code",
   "execution_count": 2,
   "metadata": {},
   "outputs": [],
   "source": [
    "def show_figure(states, times, figsize, dt, rows=5):\n",
    "    cols = (len(states) % rows) + 1\n",
    "    fig, ax = plt.subplots(cols, rows, figsize=figsize)\n",
    "    idx = 0\n",
    "    for col in range(cols):\n",
    "        for row in range(rows):\n",
    "            if idx >= len(states):\n",
    "                return\n",
    "            ax[col, row].imshow(states[idx], cmap=\"magma\", vmin=0, vmax=1,)\n",
    "            ax[col, row].set_title(\"Iter: \" + str(times[idx + 1]) + \" (%sms)\" % convert.units_to_ms(times[idx + 1], dt))\n",
    "            idx += 1"
   ]
  },
  {
   "cell_type": "code",
   "execution_count": 3,
   "metadata": {},
   "outputs": [],
   "source": [
    "# simulation inputs (real values)\n",
    "field_size = (12.5, 12.5)  # cm\n",
    "d = 0.001  # (cm^2/ms)\n",
    "cell_parameters = params.params3()"
   ]
  },
  {
   "cell_type": "code",
   "execution_count": null,
   "metadata": {},
   "outputs": [],
   "source": [
    "# infinitesimals\n",
    "dx = 0.015  # (cm/units) - Fenton 1998 recommends ~200, 300 micron/gridunit (~0.02, 0.03), smaller dx means finer grid\n",
    "dt = 0.02  # (ms) - Fenton 1998 recommends few hundreds of ms (~0.01, 0.04)"
   ]
  },
  {
   "cell_type": "code",
   "execution_count": null,
   "metadata": {},
   "outputs": [],
   "source": [
    "# to computational units\n",
    "shape = convert.field_to_shape(field_size, dx)\n",
    "\n",
    "stripe_size = int(shape[0] / 10)\n",
    "\n",
    "protocol1 = stimulus.protocol(start=0, duration=2, period=0)\n",
    "s1 = stimulus.rectangular(shape, jax.ops.index[:, -stripe_size:], 1., protocol1)\n",
    "\n",
    "protocol2 = stimulus.protocol(start=convert.ms_to_units(400, dt), duration=2, period=0)\n",
    "s2 = stimulus.rectangular(shape, jax.ops.index[-400:], 1., protocol2)\n",
    "\n",
    "stimuli = [s1, s2]\n",
    "\n",
    "checkpoints = [0, 350, 385, 405, 425, 445, 460, 475, 495, 510, 525, 575, 625, 910, 1115, 1160, 1210, 1260, 1300, 1340, 1390, 1420, 1480, 1530, 1600]\n",
    "checkpoints = [convert.ms_to_units(ck, dt) for ck in checkpoints]\n",
    "\n",
    "print(shape)\n",
    "print(\"real tissue size:\", field_size)\n",
    "print(\"Checkpointing at:\", checkpoints)\n",
    "print(cell_parameters)\n",
    "model.show_stimuli(*stimuli)"
   ]
  },
  {
   "cell_type": "code",
   "execution_count": null,
   "metadata": {},
   "outputs": [],
   "source": [
    "state = model.init(shape)\n",
    "states = []\n",
    "for i in range(len(checkpoints) - 1):\n",
    "    state = model._forward(state, checkpoints[i], checkpoints[i + 1], cell_parameters, np.ones(shape) * d, stimuli, dt, dx)\n",
    "    u = state[2]\n",
    "    states.append(u)\n",
    "#     model.show(state)\n",
    "          \n",
    "show_figure(states, checkpoints, (20, 20), dt)"
   ]
  },
  {
   "cell_type": "code",
   "execution_count": null,
   "metadata": {},
   "outputs": [],
   "source": []
  },
  {
   "cell_type": "code",
   "execution_count": null,
   "metadata": {},
   "outputs": [],
   "source": []
  }
 ],
 "metadata": {
  "kernelspec": {
   "display_name": "Python 3",
   "language": "python",
   "name": "python3"
  },
  "language_info": {
   "codemirror_mode": {
    "name": "ipython",
    "version": 3
   },
   "file_extension": ".py",
   "mimetype": "text/x-python",
   "name": "python",
   "nbconvert_exporter": "python",
   "pygments_lexer": "ipython3",
   "version": "3.7.7"
  }
 },
 "nbformat": 4,
 "nbformat_minor": 4
}
