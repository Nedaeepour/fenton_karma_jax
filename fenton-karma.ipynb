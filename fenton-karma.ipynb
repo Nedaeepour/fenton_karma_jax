{
  "nbformat": 4,
  "nbformat_minor": 0,
  "metadata": {
    "kernelspec": {
      "display_name": "Python 3",
      "language": "python",
      "name": "python3"
    },
    "language_info": {
      "codemirror_mode": {
        "name": "ipython",
        "version": 3
      },
      "file_extension": ".py",
      "mimetype": "text/x-python",
      "name": "python",
      "nbconvert_exporter": "python",
      "pygments_lexer": "ipython3",
      "version": "3.7.6"
    },
    "colab": {
      "name": "fenton-karma.ipynb",
      "provenance": []
    }
  },
  "cells": [
    {
      "cell_type": "code",
      "metadata": {
        "id": "BJ066-FyhMTv",
        "colab_type": "code",
        "colab": {}
      },
      "source": [
        "import os\n",
        "import scipy.io as scio\n",
        "import numpy as np\n",
        "import jax\n",
        "from jax import jit\n",
        "from jax import lax\n",
        "import matplotlib.pyplot as plt"
      ],
      "execution_count": 0,
      "outputs": []
    },
    {
      "cell_type": "code",
      "metadata": {
        "id": "g8wqwvR3hMT_",
        "colab_type": "code",
        "colab": {}
      },
      "source": [
        "params_1a = {\n",
        "    \"Cm\": 1,  # membrane capacitance (microF / cm^2)\n",
        "    \"V_c\": 0.13,\n",
        "    \"V_v\": 0.04,\n",
        "    \"tau_d\": 0.395,  # excitability\n",
        "    \"tau_v1_minus\": 9,  # Fast_inward_current_v_gate (ms)\n",
        "    \"tau_v2_minus\": 8,  # Fast_inward_current_v_gate (ms)\n",
        "    \"tau_v_plus\": 3.33,  # Fast_inward_current_v_gate (ms)\n",
        "    \"tau_0\": 9,  # Slow_outward_current (ms)\n",
        "    \"tau_r\": 33.33,  # Slow_outward_current (ms)\n",
        "    \"tau_si\": 29,  # Slow_inward_current (ms)\n",
        "    \"V_csi\": 0.50,  # Slow_inward_current (dimensionless)\n",
        "    \"k\": 15,  # Slow_inward_current (dimensionless)\n",
        "    \"tau_w_minus\": 60,  # Slow_inward_current_w_gate (ms)\n",
        "    \"tau_w_plus\": 250,  # Slow_inward_current_w_gate (ms)\n",
        "    \"D\": 0.05,  # X diffusivity (cm^2/ms)\n",
        "}\n",
        "params_test = {\n",
        "    \"Cm\": 1,  # membrane capacitance (microF / cm^2)\n",
        "    \"V_c\": 0.16,\n",
        "    \"V_v\": 0.16,\n",
        "    \"tau_d\": 0.125, # excitability\n",
        "    \"tau_v1_minus\": 82.5,  # Fast_inward_current_v_gate (ms)\n",
        "    \"tau_v2_minus\": 60,  # Fast_inward_current_v_gate (ms)\n",
        "    \"tau_v_plus\": 5.75,  # Fast_inward_current_v_gate (ms)\n",
        "    \"tau_0\": 32.5,  # Slow_outward_current (ms)\n",
        "    \"tau_r\": 70,  # Slow_outward_current (ms)\n",
        "    \"tau_si\": 114,  # Slow_inward_current (ms)\n",
        "    \"V_csi\": 0.85,  # Slow_inward_current (dimensionless)\n",
        "    \"k\": 10,  # Slow_inward_current (dimensionless)\n",
        "    \"tau_w_minus\": 400,  # Slow_inward_current_w_gate (ms)\n",
        "    \"tau_w_plus\": 300,  # Slow_inward_current_w_gate (ms)\n",
        "    \"D\": 0.05,  # diffusivity\n",
        "}"
      ],
      "execution_count": 0,
      "outputs": []
    },
    {
      "cell_type": "code",
      "metadata": {
        "id": "19hFYnVnhMUR",
        "colab_type": "code",
        "colab": {}
      },
      "source": [
        "# @jit\n",
        "def step(state, t, params, D, stimuli, dt, h):\n",
        "    v, w, u = state\n",
        "    \n",
        "    # apply stimulus\n",
        "    u = stimulate(t, u, stimuli)\n",
        "\n",
        "    # apply boundary conditions\n",
        "    v = neumann_np(v)\n",
        "    w = neumann_np(w)\n",
        "    u = neumann_np(u)\n",
        "\n",
        "    # gate variables\n",
        "    p = np.greater_equal(u, params[\"V_c\"])\n",
        "    q = np.greater_equal(u, params[\"V_v\"])\n",
        "    tau_v_minus = (1 - q) * params[\"tau_v1_minus\"] + q * params[\"tau_v2_minus\"]\n",
        "    \n",
        "    d_v = ((1 - p) * (1 - v) / tau_v_minus) - ((p * v) / params[\"tau_v_plus\"])\n",
        "    d_w = ((1 - p) * (1 - w) / params[\"tau_w_minus\"]) - ((p * w) / params[\"tau_w_plus\"])\n",
        "      \n",
        "    # currents\n",
        "    J_fi = - v * p * (u - params[\"V_c\"]) * (1 - u) / params[\"tau_d\"]\n",
        "    J_so = (u * (1 - p) / params[\"tau_0\"]) + (p / params[\"tau_r\"])\n",
        "    J_si = - (w * (1 + np.tanh(params[\"k\"] * (u - params[\"V_csi\"])))) / (2 * params[\"tau_si\"])\n",
        "    I_ion = -(J_fi + J_so + J_si) / params[\"Cm\"]\n",
        "\n",
        "    # voltage\n",
        "    u_x, u_y = np.gradient(u, h, edge_order=2)\n",
        "    u_xx = np.gradient(u_x, h, edge_order=2, axis=0)\n",
        "    u_yy = np.gradient(u_y, h, edge_order=2, axis=1)\n",
        "    D_x, D_y = np.gradient(D, h, edge_order=2)\n",
        "    d_u = D * (u_xx + u_yy) + ((D_x * u_x) + (D_y * u_y)) + I_ion\n",
        "    return euler((v, w, u), (d_v, d_w, d_u), dt)\n",
        "\n",
        "# @jit\n",
        "def euler(state, grad, dt):\n",
        "    v, w, u = state\n",
        "    d_v, d_w, d_u = grad\n",
        "\n",
        "    # explicit euler update\n",
        "    v += d_v * dt\n",
        "    w += d_w * dt\n",
        "    u += d_u * dt\n",
        "    return (v, w, u)\n",
        "\n",
        "# @jit\n",
        "def neumann(X):\n",
        "    X = jax.ops.index_update(X, [0], X[1])\n",
        "    X = jax.ops.index_update(X, [-1], X[-2])\n",
        "    X = jax.ops.index_update(X, [..., 0], X[..., 1])\n",
        "    X = jax.ops.index_update(X, [..., -1], X[..., -2])\n",
        "    return X\n",
        "\n",
        "def neumann_np(X):\n",
        "    X[0] = X[1]\n",
        "    X[-1] = X[-2]\n",
        "    X[..., 0] = X[..., 1]\n",
        "    X[..., -1] = X[..., -2]\n",
        "    return X\n",
        "\n",
        "# @jit\n",
        "def stimulate(t, X, stimuli):\n",
        "    for stimulus in stimuli:\n",
        "        active = np.where(t < stimulus[\"start\"], 1, 0)\n",
        "        active |= ((t - stimulus[\"start\"]) % stimulus[\"period\"]) < stimulus[\"duration\"]\n",
        "        X = np.where(stimulus[\"field\"] * (active), stimulus[\"field\"], X)\n",
        "    return X\n",
        "\n",
        "# @jit\n",
        "def forward_jit(length, params, D, stimuli, dt, h):\n",
        "    shape = (128, 128)\n",
        "    v = np.zeros(shape)\n",
        "    w = np.zeros(shape)\n",
        "    u = np.zeros(shape)\n",
        "    t = 0\n",
        "\n",
        "    init = (v, w, u)\n",
        "    return lax.fori_loop(t, length, lambda i, s: step(s, i * dt, params, D, stimuli, dt), init)\n",
        "\n",
        "def forward(length, params, D, stimuli, dt, h, log_at=10):\n",
        "    # init\n",
        "    shape = (128, 128)\n",
        "    v = np.ones(shape)*0.99\n",
        "    w = np.ones(shape)*0.99\n",
        "    u = np.zeros(shape)\n",
        "    state = (v, w, u)\n",
        "    \n",
        "    # iterate\n",
        "    for i in np.arange(0, length, dt):\n",
        "        # step\n",
        "        state = step(state, i, params, D, stimuli, dt, h)\n",
        "        \n",
        "        #show\n",
        "        print(\"t: %s ms\\t\\t\\t\" % i , end=\"\\r\")\n",
        "        if not (i % log_at):\n",
        "            im = plt.imshow(state[2], vmin=-.8, vmax=.8, cmap=\"RdBu\")\n",
        "            plt.colorbar(im)\n",
        "            plt.show()\n",
        "    return state"
      ],
      "execution_count": 0,
      "outputs": []
    },
    {
      "cell_type": "code",
      "metadata": {
        "id": "cPCtJK11hMUh",
        "colab_type": "code",
        "colab": {}
      },
      "source": [
        "# resolution\n",
        "shape = (128, 128)\n",
        "dt = 0.01\n",
        "\n",
        "# parameters\n",
        "params = params_test\n",
        "D = np.ones(shape) * params[\"D\"] \n",
        "\n",
        "# stimuli\n",
        "field = np.zeros(shape)\n",
        "field[20:40, 20:40] = .8\n",
        "# field = jax.ops.index_update(field, slice(0, 20), .95)\n",
        "stimulus = {\n",
        "    \"field\": field,\n",
        "    \"start\": 0,\n",
        "    \"duration\": dt,\n",
        "    \"period\": float(\"inf\")\n",
        "}"
      ],
      "execution_count": 0,
      "outputs": []
    },
    {
      "cell_type": "code",
      "metadata": {
        "id": "mjsbDQHahMUr",
        "colab_type": "code",
        "colab": {},
        "outputId": "278d9739-cef5-4e60-9682-a42acb33e5c0"
      },
      "source": [
        "%%time\n",
        "state = forward(2000, params_test, D, [stimulus], dt, 0.3, log_at=200000)"
      ],
      "execution_count": 0,
      "outputs": [
        {
          "output_type": "stream",
          "text": [
            "t: 0.0 ms\t\t\t\r"
          ],
          "name": "stdout"
        },
        {
          "output_type": "display_data",
          "data": {
            "image/png": "[encoded data removed]",
            "text/plain": [
              "<Figure size 432x288 with 2 Axes>"
            ]
          },
          "metadata": {
            "tags": [],
            "needs_background": "light"
          }
        },
        {
          "output_type": "stream",
          "text": [
            "t: 63.43 ms\t\t\t0000004 ms\t\t\t\t\r"
          ],
          "name": "stdout"
        }
      ]
    },
    {
      "cell_type": "code",
      "metadata": {
        "id": "cqZTRLdChMU2",
        "colab_type": "code",
        "colab": {},
        "outputId": "7635021c-586c-4429-ba9f-76ce8aac29e4"
      },
      "source": [
        "fig, ax = plt.subplots(1, 3, figsize=(20, 7))\n",
        "im = ax[0].imshow(state[0], vmin=0, vmax=1, cmap=\"RdBu\")\n",
        "plt.colorbar(im, ax=ax[0])\n",
        "ax[0].set_title(\"v\")\n",
        "im = ax[1].imshow(state[1], vmin=0, vmax=1, cmap=\"RdBu\")\n",
        "plt.colorbar(im, ax=ax[1])\n",
        "ax[1].set_title(\"w\")\n",
        "im = ax[2].imshow(state[2], vmin=0, vmax=1, cmap=\"RdBu\")\n",
        "plt.colorbar(im, ax=ax[2])\n",
        "ax[2].set_title(\"u\")"
      ],
      "execution_count": 0,
      "outputs": [
        {
          "output_type": "stream",
          "text": [
            "t: 0.0 ms\t\t\t\r"
          ],
          "name": "stdout"
        },
        {
          "output_type": "display_data",
          "data": {
            "image/png": "[encoded data removed]",
            "text/plain": [
              "<Figure size 432x288 with 2 Axes>"
            ]
          },
          "metadata": {
            "tags": [],
            "needs_background": "light"
          }
        },
        {
          "output_type": "stream",
          "text": [
            "t: 118.49000000000001 ms\t\t\t\t\r"
          ],
          "name": "stdout"
        }
      ]
    },
    {
      "cell_type": "code",
      "metadata": {
        "id": "xGnY4DDHhMVA",
        "colab_type": "code",
        "colab": {}
      },
      "source": [
        "matlab_results = []\n",
        "for file in os.listdir(\"/home/epignatelli/Downloads/FK_Matlab/data/\"):\n",
        "    matlab_results.append(scio.loadmat(\"/home/epignatelli/Downloads/FK_Matlab/data/%s\" % file)[\"u\"])\n",
        "matlab_results = np.array(matlab_results)"
      ],
      "execution_count": 0,
      "outputs": []
    },
    {
      "cell_type": "code",
      "metadata": {
        "id": "Hs6nxqW9hMVG",
        "colab_type": "code",
        "colab": {},
        "outputId": "4df44a1f-fe1d-464b-eae5-a2692de52ccc"
      },
      "source": [
        "scio.loadmat(\"/home/epignatelli/Downloads/FK_Matlab/data/100.mat\")[\"u\"]"
      ],
      "execution_count": 0,
      "outputs": [
        {
          "output_type": "execute_result",
          "data": {
            "text/plain": [
              "array([[0.3150995 , 0.3150995 , 0.31868893, ..., 0.84621607, 0.84807788,\n",
              "        0.84807788],\n",
              "       [0.3150995 , 0.3150995 , 0.31868893, ..., 0.84621607, 0.84807788,\n",
              "        0.84807788],\n",
              "       [0.31868893, 0.31868893, 0.32252753, ..., 0.8459761 , 0.84783704,\n",
              "        0.84783704],\n",
              "       ...,\n",
              "       [0.84621607, 0.84621607, 0.8459761 , ..., 0.9752197 , 0.97595808,\n",
              "        0.97595808],\n",
              "       [0.84807788, 0.84807788, 0.84783704, ..., 0.97595808, 0.97669288,\n",
              "        0.97669288],\n",
              "       [0.84807788, 0.84807788, 0.84783704, ..., 0.97595808, 0.97669288,\n",
              "        0.97669288]])"
            ]
          },
          "metadata": {
            "tags": []
          },
          "execution_count": 7
        }
      ]
    },
    {
      "cell_type": "code",
      "metadata": {
        "id": "GVW3c54UhMVR",
        "colab_type": "code",
        "colab": {}
      },
      "source": [
        ""
      ],
      "execution_count": 0,
      "outputs": []
    }
  ]
}